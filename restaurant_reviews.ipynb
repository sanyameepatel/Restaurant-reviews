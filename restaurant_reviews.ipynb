{
  "nbformat": 4,
  "nbformat_minor": 0,
  "metadata": {
    "colab": {
      "name": "restaurant reviews.ipynb",
      "provenance": [],
      "collapsed_sections": []
    },
    "kernelspec": {
      "name": "python3",
      "display_name": "Python 3"
    }
  },
  "cells": [
    {
      "cell_type": "code",
      "metadata": {
        "id": "5quH8bFdr2zJ",
        "colab_type": "code",
        "colab": {}
      },
      "source": [
        "# Importing Libraries \n",
        "import numpy as np \n",
        "import pandas as pd \n",
        "\n",
        "# Import dataset \n",
        "dataset = pd.read_csv('Restaurant_Reviews.tsv', delimiter = '\\t') "
      ],
      "execution_count": 0,
      "outputs": []
    },
    {
      "cell_type": "code",
      "metadata": {
        "id": "A8HD0O242Lz4",
        "colab_type": "code",
        "colab": {
          "base_uri": "https://localhost:8080/",
          "height": 52
        },
        "outputId": "787c5d0a-3fc2-47e5-aaeb-8d9487f309d8"
      },
      "source": [
        "# library to clean data \n",
        "import re \n",
        "\n",
        "# Natural Language Tool Kit \n",
        "import nltk \n",
        "\n",
        "nltk.download('stopwords') \n",
        "\n",
        "# to remove stopword \n",
        "from nltk.corpus import stopwords \n",
        "\n",
        "# for Stemming propose \n",
        "from nltk.stem.porter import PorterStemmer \n",
        "\n",
        "# Initialize empty array \n",
        "# to append clean text \n",
        "corpus = [] \n",
        "\n",
        "# 1000 (reviews) rows to clean \n",
        "for i in range(0, 1000): \n",
        "\t\n",
        "\t# column : \"Review\", row ith \n",
        "\treview = re.sub('[^a-zA-Z]', ' ', dataset['Review'][i]) \n",
        "\t\n",
        "\t# convert all cases to lower cases \n",
        "\treview = review.lower() \n",
        "\t\n",
        "\t# split to array(default delimiter is \" \") \n",
        "\treview = review.split() \n",
        "\t\n",
        "\t# creating PorterStemmer object to \n",
        "\t# take main stem of each word \n",
        "\tps = PorterStemmer() \n",
        "\t\n",
        "\t# loop for stemming each word \n",
        "\t# in string array at ith row\t \n",
        "\treview = [ps.stem(word) for word in review \n",
        "\t\t\t\tif not word in set(stopwords.words('english'))] \n",
        "\t\t\t\t\n",
        "\t# rejoin all string array elements \n",
        "\t# to create back into a string \n",
        "\treview = ' '.join(review) \n",
        "\t\n",
        "\t# append each string to create \n",
        "\t# array of clean text \n",
        "\tcorpus.append(review) \n"
      ],
      "execution_count": 5,
      "outputs": [
        {
          "output_type": "stream",
          "text": [
            "[nltk_data] Downloading package stopwords to /root/nltk_data...\n",
            "[nltk_data]   Unzipping corpora/stopwords.zip.\n"
          ],
          "name": "stdout"
        }
      ]
    },
    {
      "cell_type": "code",
      "metadata": {
        "id": "AA7_AlSA2a0n",
        "colab_type": "code",
        "colab": {}
      },
      "source": [
        "'''\n",
        "from nltk.tokenize import sent_tokenize, word_tokenize \n",
        "print(sent_tokenize(corpus)) \n",
        "print(word_tokenize(corpus))\n",
        "'''\n",
        "\n",
        "# Creating the Bag of Words model \n",
        "from sklearn.feature_extraction.text import CountVectorizer \n",
        "\n",
        "# To extract max 1500 feature. \n",
        "# \"max_features\" is attribute to \n",
        "# experiment with to get better results \n",
        "cv = CountVectorizer(max_features = 1500) \n",
        "\n",
        "# X contains corpus (dependent variable) \n",
        "X = cv.fit_transform(corpus).toarray() \n",
        "\n",
        "# y contains answers if review \n",
        "# is positive or negative \n",
        "y = dataset.iloc[:, 1].values \n"
      ],
      "execution_count": 0,
      "outputs": []
    },
    {
      "cell_type": "code",
      "metadata": {
        "id": "E8FP6D5831sg",
        "colab_type": "code",
        "colab": {}
      },
      "source": [
        "# Splitting the dataset into \n",
        "# the Training set and Test set \n",
        "from sklearn.model_selection import train_test_split \n",
        "\n",
        "# experiment with \"test_size\" \n",
        "# to get better results \n",
        "X_train, X_test, y_train, y_test = train_test_split(X, y, test_size = 0.25) \n"
      ],
      "execution_count": 0,
      "outputs": []
    },
    {
      "cell_type": "code",
      "metadata": {
        "id": "gBbh5zpM4IwS",
        "colab_type": "code",
        "colab": {
          "base_uri": "https://localhost:8080/",
          "height": 159
        },
        "outputId": "352fab3e-5324-4a45-c2f4-34fbc487ddd2"
      },
      "source": [
        "# Fitting Random Forest Classification \n",
        "# to the Training set \n",
        "from sklearn.ensemble import RandomForestClassifier \n",
        "\n",
        "# n_estimators can be said as number of \n",
        "# trees, experiment with n_estimators \n",
        "# to get better results \n",
        "model = RandomForestClassifier(n_estimators = 501, \n",
        "\t\t\t\t\t\t\tcriterion = 'entropy') \n",
        "\t\t\t\t\t\t\t\n",
        "model.fit(X_train, y_train) "
      ],
      "execution_count": 17,
      "outputs": [
        {
          "output_type": "execute_result",
          "data": {
            "text/plain": [
              "RandomForestClassifier(bootstrap=True, ccp_alpha=0.0, class_weight=None,\n",
              "                       criterion='entropy', max_depth=None, max_features='auto',\n",
              "                       max_leaf_nodes=None, max_samples=None,\n",
              "                       min_impurity_decrease=0.0, min_impurity_split=None,\n",
              "                       min_samples_leaf=1, min_samples_split=2,\n",
              "                       min_weight_fraction_leaf=0.0, n_estimators=501,\n",
              "                       n_jobs=None, oob_score=False, random_state=None,\n",
              "                       verbose=0, warm_start=False)"
            ]
          },
          "metadata": {
            "tags": []
          },
          "execution_count": 17
        }
      ]
    },
    {
      "cell_type": "code",
      "metadata": {
        "id": "VtID9Wlg4NWf",
        "colab_type": "code",
        "colab": {
          "base_uri": "https://localhost:8080/",
          "height": 230
        },
        "outputId": "c321427e-82fc-4702-fcfe-f834cb6bbb9b"
      },
      "source": [
        "# Predicting the Test set results \n",
        "y_pred = model.predict(X_test) \n",
        "\n",
        "y_pred "
      ],
      "execution_count": 18,
      "outputs": [
        {
          "output_type": "execute_result",
          "data": {
            "text/plain": [
              "array([0, 1, 0, 1, 0, 0, 1, 0, 1, 1, 1, 0, 1, 0, 1, 0, 0, 0, 0, 1, 1, 0,\n",
              "       0, 0, 0, 1, 0, 1, 0, 0, 1, 1, 0, 1, 0, 0, 0, 1, 0, 0, 0, 1, 1, 0,\n",
              "       0, 0, 0, 1, 0, 1, 0, 0, 0, 0, 1, 0, 0, 1, 1, 0, 1, 0, 0, 1, 0, 1,\n",
              "       0, 0, 0, 0, 1, 0, 0, 1, 1, 1, 1, 0, 1, 0, 1, 1, 0, 1, 1, 1, 0, 0,\n",
              "       0, 1, 1, 1, 0, 0, 0, 0, 1, 1, 1, 0, 0, 0, 0, 0, 0, 0, 1, 1, 0, 0,\n",
              "       0, 0, 0, 0, 1, 1, 1, 0, 1, 1, 1, 0, 0, 1, 1, 0, 0, 0, 1, 1, 1, 0,\n",
              "       0, 1, 0, 1, 0, 1, 0, 1, 0, 1, 0, 0, 1, 1, 0, 0, 1, 0, 0, 1, 0, 1,\n",
              "       0, 1, 0, 1, 1, 0, 1, 1, 0, 0, 0, 0, 0, 1, 1, 0, 0, 1, 1, 0, 0, 0,\n",
              "       0, 1, 0, 0, 0, 0, 0, 1, 1, 1, 1, 0, 1, 0, 0, 0, 0, 0, 0, 1, 1, 0,\n",
              "       1, 1, 1, 0, 0, 0, 0, 1, 0, 0, 0, 1, 0, 0, 0, 0, 0, 1, 0, 0, 0, 1,\n",
              "       0, 1, 0, 1, 1, 1, 0, 1, 0, 1, 1, 0, 0, 1, 1, 0, 1, 0, 0, 1, 1, 0,\n",
              "       1, 1, 0, 1, 1, 0, 0, 0])"
            ]
          },
          "metadata": {
            "tags": []
          },
          "execution_count": 18
        }
      ]
    },
    {
      "cell_type": "code",
      "metadata": {
        "id": "N5oOQYil4TGG",
        "colab_type": "code",
        "colab": {
          "base_uri": "https://localhost:8080/",
          "height": 52
        },
        "outputId": "c6dce041-a75b-44b3-cd07-4128a6ac40eb"
      },
      "source": [
        "# Making the Confusion Matrix \n",
        "from sklearn.metrics import confusion_matrix \n",
        "\n",
        "cm = confusion_matrix(y_test, y_pred) \n",
        "cm "
      ],
      "execution_count": 19,
      "outputs": [
        {
          "output_type": "execute_result",
          "data": {
            "text/plain": [
              "array([[100,  19],\n",
              "       [ 44,  87]])"
            ]
          },
          "metadata": {
            "tags": []
          },
          "execution_count": 19
        }
      ]
    }
  ]
}